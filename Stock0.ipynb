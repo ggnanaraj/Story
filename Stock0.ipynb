{
  "cells": [
    {
      "cell_type": "markdown",
      "metadata": {
        "id": "view-in-github",
        "colab_type": "text"
      },
      "source": [
        "<a href=\"https://colab.research.google.com/github/ggnanaraj/Story/blob/main/Stock0.ipynb\" target=\"_parent\"><img src=\"https://colab.research.google.com/assets/colab-badge.svg\" alt=\"Open In Colab\"/></a>"
      ]
    },
    {
      "cell_type": "code",
      "execution_count": 2,
      "metadata": {
        "colab": {
          "base_uri": "https://localhost:8080/"
        },
        "id": "ftL5f7G_E-uf",
        "outputId": "163953f8-b6b6-4825-d135-0ff52fcd5ca1"
      },
      "outputs": [
        {
          "output_type": "stream",
          "name": "stdout",
          "text": [
            "Requirement already satisfied: nselib in /usr/local/lib/python3.10/dist-packages (0.7)\n",
            "Requirement already satisfied: requests in /usr/local/lib/python3.10/dist-packages (from nselib) (2.31.0)\n",
            "Requirement already satisfied: pandas in /usr/local/lib/python3.10/dist-packages (from nselib) (1.5.3)\n",
            "Requirement already satisfied: scipy in /usr/local/lib/python3.10/dist-packages (from nselib) (1.11.4)\n",
            "Requirement already satisfied: python-dateutil>=2.8.1 in /usr/local/lib/python3.10/dist-packages (from pandas->nselib) (2.8.2)\n",
            "Requirement already satisfied: pytz>=2020.1 in /usr/local/lib/python3.10/dist-packages (from pandas->nselib) (2023.4)\n",
            "Requirement already satisfied: numpy>=1.21.0 in /usr/local/lib/python3.10/dist-packages (from pandas->nselib) (1.25.2)\n",
            "Requirement already satisfied: charset-normalizer<4,>=2 in /usr/local/lib/python3.10/dist-packages (from requests->nselib) (3.3.2)\n",
            "Requirement already satisfied: idna<4,>=2.5 in /usr/local/lib/python3.10/dist-packages (from requests->nselib) (3.6)\n",
            "Requirement already satisfied: urllib3<3,>=1.21.1 in /usr/local/lib/python3.10/dist-packages (from requests->nselib) (2.0.7)\n",
            "Requirement already satisfied: certifi>=2017.4.17 in /usr/local/lib/python3.10/dist-packages (from requests->nselib) (2024.2.2)\n",
            "Requirement already satisfied: six>=1.5 in /usr/local/lib/python3.10/dist-packages (from python-dateutil>=2.8.1->pandas->nselib) (1.16.0)\n"
          ]
        }
      ],
      "source": [
        "pip install nselib"
      ]
    },
    {
      "cell_type": "code",
      "source": [
        "pip install numpy"
      ],
      "metadata": {
        "id": "6e4cO0IocANJ",
        "outputId": "8b926a2c-1719-4625-a442-4dc8aaa34188",
        "colab": {
          "base_uri": "https://localhost:8080/"
        }
      },
      "execution_count": 3,
      "outputs": [
        {
          "output_type": "stream",
          "name": "stdout",
          "text": [
            "Requirement already satisfied: numpy in /usr/local/lib/python3.10/dist-packages (1.25.2)\n"
          ]
        }
      ]
    },
    {
      "cell_type": "code",
      "source": [
        "import numpy as np"
      ],
      "metadata": {
        "id": "rdYrcKOHcNq8"
      },
      "execution_count": null,
      "outputs": []
    },
    {
      "cell_type": "code",
      "source": [
        "import nselib\n",
        "#data = nselib.trading_holiday_calendar()\n",
        "#print(data)"
      ],
      "metadata": {
        "id": "Ao43h1RRGIJD"
      },
      "execution_count": null,
      "outputs": []
    },
    {
      "cell_type": "code",
      "source": [
        "from nselib import capital_market"
      ],
      "metadata": {
        "id": "dxcr1G-EGfuP"
      },
      "execution_count": null,
      "outputs": []
    },
    {
      "cell_type": "code",
      "source": [
        "data=capital_market.bhav_copy_with_delivery(\"01-03-2024\")\n",
        "print(data.columns)"
      ],
      "metadata": {
        "colab": {
          "base_uri": "https://localhost:8080/"
        },
        "id": "uI-r4sg7GnS_",
        "outputId": "4643fb64-db16-4a79-a5d0-75104667d037"
      },
      "execution_count": null,
      "outputs": [
        {
          "output_type": "stream",
          "name": "stdout",
          "text": [
            "Index(['SYMBOL', 'SERIES', 'OPEN_PRICE', 'HIGH_PRICE', 'LOW_PRICE',\n",
            "       'CLOSE_PRICE', 'PREV_CLOSE', 'TTL_TRD_QNTY', 'TURNOVER_LACS',\n",
            "       'NO_OF_TRADES', 'DELIV_QTY', 'DELIV_PER', 'DATE1'],\n",
            "      dtype='object')\n"
          ]
        }
      ]
    },
    {
      "cell_type": "code",
      "source": [
        "#data1=data('SYMBOL','OPEN_PRICE','HIGH_PRICE','LOW_PRICE','CLOSE_PRICE','PREV_CLOSE','TTL_TRD_QNTY','DELIV_PER')\n",
        "data1=data.loc[1:,['SYMBOL','OPEN_PRICE','HIGH_PRICE','LOW_PRICE','CLOSE_PRICE','PREV_CLOSE','TTL_TRD_QNTY','DELIV_PER']]\n",
        "data1['GAP_UP']=(((data1['OPEN_PRICE']-data1['PREV_CLOSE'])/data1['PREV_CLOSE'])*100).round(2)\n"
      ],
      "metadata": {
        "id": "eW3bYTQhIfvV"
      },
      "execution_count": null,
      "outputs": []
    },
    {
      "cell_type": "code",
      "source": [
        "import nselib\n",
        "from nselib import capital_market\n",
        "data=capital_market.bhav_copy_with_delivery(\"07-03-2024\")\n",
        "data1=data.loc[1:,['SYMBOL','OPEN_PRICE','HIGH_PRICE','LOW_PRICE','CLOSE_PRICE','PREV_CLOSE']]\n",
        "data1['GAP_UP']=(((data1['OPEN_PRICE']-data1['PREV_CLOSE'])/data1['PREV_CLOSE'])*100).round(2)\n",
        "data1['TTL_TRD_QNTY']=0\n",
        "data1['DELIV_PER']=0\n",
        "\n",
        "#data1=data1[data1['DELIV_PER'] != \"-\"]\n",
        "data_5PC_GAP_UP=data1[data1['GAP_UP'] > 5]     # gap greater than 5\n",
        "data_5PC_GAP_UP=data_5PC_GAP_UP.sort_values(by=['GAP_UP'],ascending=False)\n",
        "data_PC=data_5PC_GAP_UP[data_5PC_GAP_UP['PREV_CLOSE'] > 10] # only share value above Rs10\n",
        "data_PC.drop_duplicates(subset='SYMBOL',keep='first',inplace=True) # drop duplicate\n",
        "data_PC=data_PC.sort_values(by=['SYMBOL'])\n",
        "list_SYM=data_PC['SYMBOL'].to_list()\n",
        "list_SYM.sort()\n",
        "#---------------------------------\n",
        "dataO=capital_market.bhav_copy_with_delivery(\"06-03-2024\")\n",
        "data1O=dataO.loc[1:,['SYMBOL','TTL_TRD_QNTY','DELIV_PER']]\n",
        "data1O=data1O[data1O['DELIV_PER'] != \"-\"]\n",
        "data2O=data1O[data1O['SYMBOL'].isin(list_SYM)]# list_SYM or data_PC or list_PC\n",
        "data2O.drop_duplicates(subset='SYMBOL',keep='first',inplace=True) # drop duplicate\n",
        "data2O=data2O.sort_values(by=['SYMBOL'])\n",
        "listO_SYM=data2O['SYMBOL'].to_list()\n",
        "listO_SYM.sort()\n",
        "#---------------------------\n",
        "list_comn=[symbol for symbol in list_SYM if symbol in listO_SYM]\n",
        "list_diff=[symbol for symbol in list_SYM if symbol not in listO_SYM]\n",
        "list_indexDel=[]\n",
        "data_PC1= data_PC\n",
        "for i in list_diff:\n",
        "  list_1=data_PC.index[data_PC['SYMBOL'] == i ].to_list()\n",
        "  data_PC1.drop(list_1, inplace=True) # drops row which is not common\n",
        "  list_indexDel.extend(list_1)\n",
        "for j,k in enumerate(list_comn):\n",
        "  PC1=data2O.loc[data2O['SYMBOL']==list_comn[j],'TTL_TRD_QNTY']\n",
        "  data_PC1.loc[data_PC1['SYMBOL']==list_comn[j],'TTL_TRD_QNTY']= int(PC1)\n",
        "  PC1=data2O.loc[data2O['SYMBOL']==list_comn[j],'DELIV_PER']\n",
        "  data_PC1.loc[data_PC1['SYMBOL']==list_comn[j],'DELIV_PER']= float(PC1)\n",
        "\n",
        "#data2 = capital_market.price_volume_and_deliverable_position_data(symbol='SBIN', from_date='29-02-2024', to_date='01-03-2024')\n",
        "#data3=capital_market.equity_list( )\n",
        "data_VOL=data_PC1[data_PC1['TTL_TRD_QNTY'] > 50000] #Quantity greater than 50000\n",
        "data_VOL=data_VOL[data_VOL['DELIV_PER'] != \"-\"]\n",
        "#data_VOL=data_VOL[data_VOL['DELIV_PER'] > 20]  #\n",
        "#data_VOL=data_VOL[data_VOL['DELIV_PER'] < 90]\n",
        "list_N=data_VOL['SYMBOL'].to_list()\n",
        "data_VOL['GAP_down']=(((data_VOL['HIGH_PRICE']-data_VOL['LOW_PRICE'])/data_VOL['HIGH_PRICE'])*100).round(2)\n",
        "data_VOL['INT_Hike']=(((data_VOL['HIGH_PRICE']-data_VOL['OPEN_PRICE'])/data_VOL['OPEN_PRICE'])*100).round(2)\n",
        "#data_VOL\n"
      ],
      "metadata": {
        "id": "MNBuEqcmZYI4",
        "outputId": "20d5b402-785f-4962-a6bd-d3c0f2d39569",
        "colab": {
          "base_uri": "https://localhost:8080/"
        }
      },
      "execution_count": 4,
      "outputs": [
        {
          "output_type": "stream",
          "name": "stderr",
          "text": [
            "<ipython-input-4-96838e231a93>:13: SettingWithCopyWarning: \n",
            "A value is trying to be set on a copy of a slice from a DataFrame\n",
            "\n",
            "See the caveats in the documentation: https://pandas.pydata.org/pandas-docs/stable/user_guide/indexing.html#returning-a-view-versus-a-copy\n",
            "  data_PC.drop_duplicates(subset='SYMBOL',keep='first',inplace=True) # drop duplicate\n",
            "<ipython-input-4-96838e231a93>:22: SettingWithCopyWarning: \n",
            "A value is trying to be set on a copy of a slice from a DataFrame\n",
            "\n",
            "See the caveats in the documentation: https://pandas.pydata.org/pandas-docs/stable/user_guide/indexing.html#returning-a-view-versus-a-copy\n",
            "  data2O.drop_duplicates(subset='SYMBOL',keep='first',inplace=True) # drop duplicate\n"
          ]
        }
      ]
    },
    {
      "cell_type": "code",
      "source": [
        "#print(len(data_PC1))\n",
        "#print(len(data2O))\n",
        "import pandas as pd\n",
        "\n",
        "data_VOL1=[]\n",
        "Hi_Max1=[]\n",
        "Hi_Min1=[]\n",
        "Hi_Ave1=[]\n",
        "Lo_Max1=[]\n",
        "Lo_Min1=[]\n",
        "Lo_Ave1=[]\n",
        "for i in range(len(list_N)):\n",
        "  data_T=capital_market.price_volume_data(list_N[i],period='1M').tail(14)\n",
        "  #print(data_T)\n",
        "  #-------------------------------------------------\n",
        "  data_Ta=data_T\n",
        "  data_Tr=data_T[:-1]\n",
        "  data_Tr= data_Tr.tail(7)\n",
        "  Hi_Max=data_Tr['HighPrice'].max()\n",
        "  Hi_Min=data_Tr['HighPrice'].min()\n",
        "\n",
        "  data_Hi=data_Tr['HighPrice'].astype('string')\n",
        "  for j in range(len(data_Hi)):\n",
        "    data_Hi.iloc[j]=data_Hi.iloc[j].replace(\",\",\"\")\n",
        "  data_Hi=data_Hi.astype('string').astype(float)\n",
        "  #print(data_T)\n",
        "  Hi_Ave=data_Hi.mean(skipna=True).astype(int)\n",
        "\n",
        "\n",
        "  Lo_Max=data_Tr['LowPrice'].max()\n",
        "  Lo_Min=data_Tr['LowPrice'].min()\n",
        "\n",
        "  data_Lo=data_Tr['LowPrice'].astype('string')\n",
        "  for j in range(len(data_Lo)):\n",
        "    data_Lo.iloc[j]=data_Lo.iloc[j].replace(\",\",\"\")\n",
        "  data_Lo=data_Lo.astype('string').astype(float)\n",
        "  #print(data_T)\n",
        "  Lo_Ave=data_Lo.mean(skipna=True).astype(int)\n",
        "\n",
        "  #-------------------------------------------------\n",
        "  data_T=data_T['TotalTradedQuantity'].astype('string')\n",
        "  for j in range(len(data_T)):\n",
        "    data_T.iloc[j]=data_T.iloc[j].replace(\",\",\"\")\n",
        "  data_T=data_T.astype(int)\n",
        "  data_T = data_T[:-1]\n",
        "  #print(data_T)\n",
        "  data_T1=data_T.mean(skipna=True).astype(int)\n",
        "  data_VOL1.append(data_T1)\n",
        "  Hi_Max1.append(Hi_Max)\n",
        "  Hi_Ave1.append(Hi_Ave)\n",
        "  Hi_Min1.append(Hi_Min)\n",
        "  Lo_Max1.append(Lo_Max)\n",
        "  Lo_Ave1.append(Lo_Ave)\n",
        "  Lo_Min1.append(Lo_Min)\n",
        "data_VOL['Ave_QNTY']= data_VOL1\n",
        "data_VOL['Hi_Max']= Hi_Max1\n",
        "data_VOL['Hi_Ave']= Hi_Ave1\n",
        "data_VOL['Hi_Min']= Hi_Min1\n",
        "data_VOL['Lo_Max']= Lo_Max1\n",
        "data_VOL['Lo_Ave']= Lo_Ave1\n",
        "data_VOL['Lo_Min']= Lo_Min1\n",
        "#data_VOL\n",
        "#list_comn[1]\n",
        "#d=pd.read_excel(\"C:\\\\Users\\\\Admin\\\\Desktop\\\\Godwin\\\\Trade\\\\GapUp.xlsx\")\n",
        "#data_VOL=pd.DataFrame(d)\n",
        "data_VOL.to_excel(\"GapUp.xlsx\") # excel or csv\n",
        "data_VOL.to_csv(\"GapUp.csv\") # excel or csv\n",
        "\n",
        "\"\"\"data_T=capital_market.price_volume_data(list_comn[1],period='1M').tail(14)\n",
        "data_T=data_T['TotalTradedQuantity'].astype('string')\n",
        "for i in range(len(data_T)):\n",
        "  data_T.iloc[i]=data_T.iloc[i].replace(\",\",\"\")\n",
        "data_T=data_T.astype(int)\n",
        "data_T.mean(skipna=True).astype(int)\"\"\""
      ],
      "metadata": {
        "colab": {
          "base_uri": "https://localhost:8080/",
          "height": 53
        },
        "id": "T5W1wqiGgTyR",
        "outputId": "62276347-2c6e-4129-f7fd-59a67fccd532"
      },
      "execution_count": 44,
      "outputs": [
        {
          "output_type": "execute_result",
          "data": {
            "text/plain": [
              "'data_T=capital_market.price_volume_data(list_comn[1],period=\\'1M\\').tail(14)\\ndata_T=data_T[\\'TotalTradedQuantity\\'].astype(\\'string\\')\\nfor i in range(len(data_T)):\\n  data_T.iloc[i]=data_T.iloc[i].replace(\",\",\"\")\\ndata_T=data_T.astype(int)\\ndata_T.mean(skipna=True).astype(int)'"
            ],
            "application/vnd.google.colaboratory.intrinsic+json": {
              "type": "string"
            }
          },
          "metadata": {},
          "execution_count": 44
        }
      ]
    },
    {
      "cell_type": "code",
      "source": [
        "#print(len(data_PC1))\n",
        "#print(len(data2O))\n",
        "data_VOL1=[]\n",
        "Hi_Max1=[]\n",
        "Hi_Min1=[]\n",
        "Hi_Ave1=[]\n",
        "Lo_Max1=[]\n",
        "Lo_Min1=[]\n",
        "Lo_Ave1=[]\n",
        "for i in range(len(list_N)):\n",
        "  data_T=capital_market.price_volume_data(list_N[i],period='1M').tail(14)\n",
        "  #print(data_T)\n",
        "  #-------------------------------------------------\n",
        "  data_Tr=data_T[:-1]\n",
        "  data_Tr= data_Tr.tail(7)\n",
        "  Hi_Max=data_Tr['HighPrice'].max()\n",
        "  Hi_Min=data_Tr['HighPrice'].min()\n",
        "\n",
        "  data_Hi=data_Tr['HighPrice'].astype('string')\n",
        "  for j in range(len(data_Hi)):\n",
        "    data_Hi.iloc[j]=data_Hi.iloc[j].replace(\",\",\"\")\n",
        "  data_Hi=data_Hi.astype('string').astype(float)\n",
        "  #print(data_T)\n",
        "  Hi_Ave=data_Hi.mean(skipna=True).astype(int)\n",
        "\n",
        "\n",
        "  Lo_Max=data_Tr['LowPrice'].max()\n",
        "  Lo_Min=data_Tr['LowPrice'].min()\n",
        "\n",
        "  data_Lo=data_Tr['LowPrice'].astype('string')\n",
        "  for j in range(len(data_Lo)):\n",
        "    data_Lo.iloc[j]=data_Lo.iloc[j].replace(\",\",\"\")\n",
        "  data_Lo=data_Lo.astype('string').astype(float)\n",
        "  #print(data_T)\n",
        "  Lo_Ave=data_Lo.mean(skipna=True).astype(int)\n",
        "\n",
        "  #-------------------------------------------------\n",
        "  data_T=data_T['TotalTradedQuantity'].astype('string')\n",
        "  for j in range(len(data_T)):\n",
        "    data_T.iloc[j]=data_T.iloc[j].replace(\",\",\"\")\n",
        "  data_T=data_T.astype(int)\n",
        "  data_T = data_T[:-1]\n",
        "  #print(data_T)\n",
        "  data_T1=data_T.mean(skipna=True).astype(int)\n",
        "  data_VOL1.append(data_T1)\n",
        "  Hi_Max1.append(Hi_Max)\n",
        "  Hi_Ave1.append(Hi_Ave)\n",
        "  Hi_Min1.append(Hi_Min)\n",
        "  Lo_Max1.append(Lo_Max)\n",
        "  Lo_Ave1.append(Lo_Ave)\n",
        "  Lo_Min1.append(Lo_Min)\n",
        "data_VOL['Ave_QNTY']= data_VOL1\n",
        "data_VOL['Hi_Max']= Hi_Max1\n",
        "data_VOL['Hi_Ave']= Hi_Ave1\n",
        "data_VOL['Hi_Min']= Hi_Min1\n",
        "data_VOL['Lo_Max']= Lo_Max1\n",
        "data_VOL['Lo_Ave']= Lo_Ave1\n",
        "data_VOL['Lo_Min']= Lo_Min1\n",
        "data_VOL\n",
        "#list_comn[1]\n"
      ],
      "metadata": {
        "id": "j72LHx0_V83T"
      },
      "execution_count": null,
      "outputs": []
    },
    {
      "cell_type": "code",
      "source": [
        "data_Ta1=data_Ta"
      ],
      "metadata": {
        "id": "SpFkkh1suAnf"
      },
      "execution_count": 45,
      "outputs": []
    },
    {
      "cell_type": "code",
      "source": [
        "d=pd.read_excel(\"GapUp.xlsx\")\n",
        "data_VOL=pd.DataFrame(d)\n",
        "data_S = pd.DataFrame()\n",
        "data1=data.loc[1:,['SYMBOL','OPEN_PRICE','HIGH_PRICE','LOW_PRICE','CLOSE_PRICE','PREV_CLOSE']]\n",
        "data_S=data_VOL.loc[1:,['GAP_UP','GAP_down']]\n",
        "#print(data_S)\n",
        "#data_VOL\n",
        "#print(data_Ta[:-1])\n",
        "data_Ta=data_Ta1\n",
        "data_Ta=data_Ta[:-1]\n",
        "da_Slope=data_Ta.tail(7)\n",
        "print(da_Slope)\n",
        "((da_Slope['HighPrice'].iloc[0]-da_Slope['HighPrice'].iloc[6])/da_Slope['HighPrice'].iloc[6])*6"
      ],
      "metadata": {
        "colab": {
          "base_uri": "https://localhost:8080/"
        },
        "id": "9vXOsEmF9ku4",
        "outputId": "caadcfd1-045c-4af1-a02e-912bc93258f0"
      },
      "execution_count": 52,
      "outputs": [
        {
          "output_type": "stream",
          "name": "stdout",
          "text": [
            "   Symbol Series         Date  PrevClose  OpenPrice  HighPrice  LowPrice  \\\n",
            "13    NaN     EQ  06-Mar-2024     143.80     146.00     146.00    137.20   \n",
            "14    NaN     EQ  07-Mar-2024     139.90     146.95     167.85    141.05   \n",
            "15    NaN     EQ  11-Mar-2024     150.50     157.00     157.00    142.00   \n",
            "16    NaN     EQ  12-Mar-2024     144.80     145.60     145.60    131.50   \n",
            "17    NaN     EQ  13-Mar-2024     136.90     137.80     143.55    124.85   \n",
            "18    NaN     EQ  14-Mar-2024     127.80     125.00     134.70    124.80   \n",
            "19    NaN     EQ  15-Mar-2024     131.55     134.20     135.45    129.35   \n",
            "\n",
            "    LastPrice  ClosePrice  AveragePrice TotalTradedQuantity Turnover  \\\n",
            "13      141.0      139.90        140.43            3,49,866      NaN   \n",
            "14      150.0      150.50        156.98           10,42,372      NaN   \n",
            "15      146.1      144.80        147.19            1,86,952      NaN   \n",
            "16      138.4      136.90        137.80            3,94,602      NaN   \n",
            "17      128.0      127.80        131.07            3,37,784      NaN   \n",
            "18      131.7      131.55        130.65            1,68,144      NaN   \n",
            "19      133.0      132.60        131.97              69,480      NaN   \n",
            "\n",
            "   No.ofTrades ï»¿\"Symbol\"      Turnoverâ¹  \n",
            "13       8,416         WSI   4,91,33,162.20  \n",
            "14      25,584         WSI  16,36,30,874.80  \n",
            "15       8,530         WSI   2,75,16,672.50  \n",
            "16      10,369         WSI   5,43,76,275.20  \n",
            "17      11,887         WSI   4,42,72,990.95  \n",
            "18       5,790         WSI   2,19,67,457.35  \n",
            "19       2,998         WSI     91,69,500.90  \n"
          ]
        },
        {
          "output_type": "execute_result",
          "data": {
            "text/plain": [
              "0.46733111849390974"
            ]
          },
          "metadata": {},
          "execution_count": 52
        }
      ]
    }
  ],
  "metadata": {
    "colab": {
      "provenance": [],
      "authorship_tag": "ABX9TyMC3iAfyRAWfl7jvLsLAoby",
      "include_colab_link": true
    },
    "kernelspec": {
      "display_name": "Python 3",
      "name": "python3"
    },
    "language_info": {
      "name": "python"
    }
  },
  "nbformat": 4,
  "nbformat_minor": 0
}