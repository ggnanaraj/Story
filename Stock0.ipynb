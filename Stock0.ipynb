{
  "cells": [
    {
      "cell_type": "markdown",
      "metadata": {
        "id": "view-in-github",
        "colab_type": "text"
      },
      "source": [
        "<a href=\"https://colab.research.google.com/github/ggnanaraj/Story/blob/main/Stock0.ipynb\" target=\"_parent\"><img src=\"https://colab.research.google.com/assets/colab-badge.svg\" alt=\"Open In Colab\"/></a>"
      ]
    },
    {
      "cell_type": "code",
      "execution_count": 46,
      "metadata": {
        "colab": {
          "base_uri": "https://localhost:8080/"
        },
        "id": "ftL5f7G_E-uf",
        "outputId": "b7ebe2d7-27bc-4139-fc08-3b41a6760521"
      },
      "outputs": [
        {
          "output_type": "stream",
          "name": "stdout",
          "text": [
            "Requirement already satisfied: nselib in /usr/local/lib/python3.10/dist-packages (0.7)\n",
            "Requirement already satisfied: requests in /usr/local/lib/python3.10/dist-packages (from nselib) (2.31.0)\n",
            "Requirement already satisfied: pandas in /usr/local/lib/python3.10/dist-packages (from nselib) (1.5.3)\n",
            "Requirement already satisfied: scipy in /usr/local/lib/python3.10/dist-packages (from nselib) (1.11.4)\n",
            "Requirement already satisfied: python-dateutil>=2.8.1 in /usr/local/lib/python3.10/dist-packages (from pandas->nselib) (2.8.2)\n",
            "Requirement already satisfied: pytz>=2020.1 in /usr/local/lib/python3.10/dist-packages (from pandas->nselib) (2023.4)\n",
            "Requirement already satisfied: numpy>=1.21.0 in /usr/local/lib/python3.10/dist-packages (from pandas->nselib) (1.25.2)\n",
            "Requirement already satisfied: charset-normalizer<4,>=2 in /usr/local/lib/python3.10/dist-packages (from requests->nselib) (3.3.2)\n",
            "Requirement already satisfied: idna<4,>=2.5 in /usr/local/lib/python3.10/dist-packages (from requests->nselib) (3.6)\n",
            "Requirement already satisfied: urllib3<3,>=1.21.1 in /usr/local/lib/python3.10/dist-packages (from requests->nselib) (2.0.7)\n",
            "Requirement already satisfied: certifi>=2017.4.17 in /usr/local/lib/python3.10/dist-packages (from requests->nselib) (2024.2.2)\n",
            "Requirement already satisfied: six>=1.5 in /usr/local/lib/python3.10/dist-packages (from python-dateutil>=2.8.1->pandas->nselib) (1.16.0)\n"
          ]
        }
      ],
      "source": [
        "pip install nselib"
      ]
    },
    {
      "cell_type": "code",
      "source": [
        "import nselib\n",
        "#data = nselib.trading_holiday_calendar()\n",
        "#print(data)"
      ],
      "metadata": {
        "id": "Ao43h1RRGIJD"
      },
      "execution_count": 47,
      "outputs": []
    },
    {
      "cell_type": "code",
      "source": [
        "from nselib import capital_market"
      ],
      "metadata": {
        "id": "dxcr1G-EGfuP"
      },
      "execution_count": 5,
      "outputs": []
    },
    {
      "cell_type": "code",
      "source": [
        "data=capital_market.bhav_copy_with_delivery(\"01-03-2024\")\n",
        "print(data.columns)"
      ],
      "metadata": {
        "colab": {
          "base_uri": "https://localhost:8080/"
        },
        "id": "uI-r4sg7GnS_",
        "outputId": "4643fb64-db16-4a79-a5d0-75104667d037"
      },
      "execution_count": 45,
      "outputs": [
        {
          "output_type": "stream",
          "name": "stdout",
          "text": [
            "Index(['SYMBOL', 'SERIES', 'OPEN_PRICE', 'HIGH_PRICE', 'LOW_PRICE',\n",
            "       'CLOSE_PRICE', 'PREV_CLOSE', 'TTL_TRD_QNTY', 'TURNOVER_LACS',\n",
            "       'NO_OF_TRADES', 'DELIV_QTY', 'DELIV_PER', 'DATE1'],\n",
            "      dtype='object')\n"
          ]
        }
      ]
    },
    {
      "cell_type": "code",
      "source": [
        "#data1=data('SYMBOL','OPEN_PRICE','HIGH_PRICE','LOW_PRICE','CLOSE_PRICE','PREV_CLOSE','TTL_TRD_QNTY','DELIV_PER')\n",
        "data1=data.loc[1:,['SYMBOL','OPEN_PRICE','HIGH_PRICE','LOW_PRICE','CLOSE_PRICE','PREV_CLOSE','TTL_TRD_QNTY','DELIV_PER']]\n",
        "data1['GAP_UP']=(((data1['OPEN_PRICE']-data1['PREV_CLOSE'])/data1['PREV_CLOSE'])*100).round(2)\n",
        "\n",
        "##data1.sort_values(by=['GAP_UP'],ascending=False)\n",
        "#data_5PC_GAP_UP=data1[data1['GAP_UP'] > 5]     # gap greater than 5\n",
        "#data_5PC_GAP_UP=data_5PC_GAP_UP.sort_values(by=['GAP_UP'],ascending=False)\n",
        "#data_VOL=data_5PC_GAP_UP[data_5PC_GAP_UP['TTL_TRD_QNTY'] > 50000] #Quantity greater than 50000\n",
        "#data_VOL1=data_VOL[data_VOL['DELIV_PER'] != \"-\"]\n",
        "##data_VOL1[data_VOL1['DELIV_PER'] > 5]\n",
        "#data_VOL1.DELIV_PER=data_VOL1.DELIV_PER.astype(float)\n",
        "#data_VOL1=data_VOL1[data_VOL1['DELIV_PER'] > 20]  #\n",
        "#data_VOL1=data_VOL1[data_VOL1['DELIV_PER'] < 90]\n",
        "#data_VOL1['GAP_down']=(((data_VOL1['HIGH_PRICE']-data_VOL1['LOW_PRICE'])/data_VOL1['HIGH_PRICE'])*100).round(2)\n",
        "#data_VOL1\n",
        "\n",
        "\n",
        "\n"
      ],
      "metadata": {
        "id": "eW3bYTQhIfvV"
      },
      "execution_count": null,
      "outputs": []
    },
    {
      "cell_type": "code",
      "source": [
        "from nselib import capital_market\n",
        "data=capital_market.bhav_copy_with_delivery(\"01-03-2024\")\n",
        "data1=data.loc[1:,['SYMBOL','OPEN_PRICE','HIGH_PRICE','LOW_PRICE','CLOSE_PRICE','PREV_CLOSE']]\n",
        "data1['GAP_UP']=(((data1['OPEN_PRICE']-data1['PREV_CLOSE'])/data1['PREV_CLOSE'])*100).round(2)\n",
        "data1['TTL_TRD_QNTY']=0\n",
        "data1['DELIV_PER']=0\n",
        "\n",
        "#data1=data1[data1['DELIV_PER'] != \"-\"]\n",
        "data_5PC_GAP_UP=data1[data1['GAP_UP'] > 5]     # gap greater than 5\n",
        "data_5PC_GAP_UP=data_5PC_GAP_UP.sort_values(by=['GAP_UP'],ascending=False)\n",
        "data_PC=data_5PC_GAP_UP[data_5PC_GAP_UP['PREV_CLOSE'] > 10]\n",
        "data_PC.sort_values(by=['SYMBOL'])\n",
        "list_SYM=data_PC['SYMBOL'].to_list()\n",
        "list_SYM.sort()\n",
        "#---------------------------------\n",
        "dataO=capital_market.bhav_copy_with_delivery(\"29-02-2024\")\n",
        "data1O=dataO.loc[1:,['SYMBOL','TTL_TRD_QNTY','DELIV_PER']]\n",
        "data2O=data1O[data1O['SYMBOL'].isin(list_PC)]\n",
        "data2O.drop_duplicates(subset='SYMBOL',keep='first',inplace=True)\n",
        "listO_SYM=data2O['SYMBOL'].to_list()\n",
        "listO_SYM.sort()\n",
        "#---------------------------\n",
        "list_comn=[symbol for symbol in list_SYM if symbol in listO_SYM]\n",
        "list_diff=[symbol for symbol in list_SYM if symbol not in listO_SYM]\n",
        "list_indexDel=[]\n",
        "for i in list_diff:\n",
        "  list_1=data_PC.index[data_PC['SYMBOL'] == i ].to_list()\n",
        "  list_indexDel.extend(list_1)\n",
        "list_indexDel\n",
        "#from nselib import capital_market\n",
        "#data2 = capital_market.price_volume_and_deliverable_position_data(symbol='SBIN', from_date='29-02-2024', to_date='01-03-2024')\n",
        "#data3=capital_market.equity_list( )\n",
        "#data1O.set_index('SYMBOL',inplace=True)\n",
        "#data1O\n"
      ],
      "metadata": {
        "colab": {
          "base_uri": "https://localhost:8080/"
        },
        "id": "MNBuEqcmZYI4",
        "outputId": "c463b6a3-3cd1-4912-f4eb-0e324031c0fd"
      },
      "execution_count": 48,
      "outputs": [
        {
          "output_type": "stream",
          "name": "stderr",
          "text": [
            "<ipython-input-48-cc73bfc74db6>:19: SettingWithCopyWarning: \n",
            "A value is trying to be set on a copy of a slice from a DataFrame\n",
            "\n",
            "See the caveats in the documentation: https://pandas.pydata.org/pandas-docs/stable/user_guide/indexing.html#returning-a-view-versus-a-copy\n",
            "  data2O.drop_duplicates(subset='SYMBOL',keep='first',inplace=True)\n"
          ]
        },
        {
          "output_type": "execute_result",
          "data": {
            "text/plain": [
              "[1978]"
            ]
          },
          "metadata": {},
          "execution_count": 48
        }
      ]
    },
    {
      "cell_type": "code",
      "source": [
        "data_PC.loc[1978]\n",
        "#data_PC.drop(columns=['SYMBOL','OPEN'])\n"
      ],
      "metadata": {
        "colab": {
          "base_uri": "https://localhost:8080/"
        },
        "id": "T5W1wqiGgTyR",
        "outputId": "69d3c2ef-c8fe-4923-fe86-81de97fd4904"
      },
      "execution_count": 50,
      "outputs": [
        {
          "output_type": "execute_result",
          "data": {
            "text/plain": [
              "SYMBOL          SADHAV\n",
              "OPEN_PRICE       135.0\n",
              "HIGH_PRICE      141.75\n",
              "LOW_PRICE        135.0\n",
              "CLOSE_PRICE     141.75\n",
              "PREV_CLOSE        95.0\n",
              "GAP_UP           42.11\n",
              "TTL_TRD_QNTY         0\n",
              "DELIV_PER            0\n",
              "Name: 1978, dtype: object"
            ]
          },
          "metadata": {},
          "execution_count": 50
        }
      ]
    }
  ],
  "metadata": {
    "colab": {
      "provenance": [],
      "authorship_tag": "ABX9TyMxTKzs+USrArxf9ni591T3",
      "include_colab_link": true
    },
    "kernelspec": {
      "display_name": "Python 3",
      "name": "python3"
    },
    "language_info": {
      "name": "python"
    }
  },
  "nbformat": 4,
  "nbformat_minor": 0
}